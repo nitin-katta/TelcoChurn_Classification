{
 "cells": [
  {
   "cell_type": "markdown",
   "id": "712bdf77",
   "metadata": {},
   "source": [
    "# Libararies\n"
   ]
  },
  {
   "cell_type": "code",
   "execution_count": 1,
   "id": "266a7fed",
   "metadata": {},
   "outputs": [],
   "source": [
    "import pandas as pd\n",
    "import seaborn as sns\n",
    "import matplotlib.pyplot as plt\n",
    "import numpy as np"
   ]
  },
  {
   "cell_type": "code",
   "execution_count": 2,
   "id": "c7e9344a",
   "metadata": {
    "scrolled": true
   },
   "outputs": [],
   "source": [
    "data = pd.read_csv(\"WA_Fn-UseC_-Telco-Customer-Churn.csv\")"
   ]
  },
  {
   "cell_type": "code",
   "execution_count": 3,
   "id": "f78e93e9",
   "metadata": {},
   "outputs": [
    {
     "data": {
      "text/html": [
       "<div>\n",
       "<style scoped>\n",
       "    .dataframe tbody tr th:only-of-type {\n",
       "        vertical-align: middle;\n",
       "    }\n",
       "\n",
       "    .dataframe tbody tr th {\n",
       "        vertical-align: top;\n",
       "    }\n",
       "\n",
       "    .dataframe thead th {\n",
       "        text-align: right;\n",
       "    }\n",
       "</style>\n",
       "<table border=\"1\" class=\"dataframe\">\n",
       "  <thead>\n",
       "    <tr style=\"text-align: right;\">\n",
       "      <th></th>\n",
       "      <th>customerID</th>\n",
       "      <th>gender</th>\n",
       "      <th>SeniorCitizen</th>\n",
       "      <th>Partner</th>\n",
       "      <th>Dependents</th>\n",
       "      <th>tenure</th>\n",
       "      <th>PhoneService</th>\n",
       "      <th>MultipleLines</th>\n",
       "      <th>InternetService</th>\n",
       "      <th>OnlineSecurity</th>\n",
       "      <th>...</th>\n",
       "      <th>DeviceProtection</th>\n",
       "      <th>TechSupport</th>\n",
       "      <th>StreamingTV</th>\n",
       "      <th>StreamingMovies</th>\n",
       "      <th>Contract</th>\n",
       "      <th>PaperlessBilling</th>\n",
       "      <th>PaymentMethod</th>\n",
       "      <th>MonthlyCharges</th>\n",
       "      <th>TotalCharges</th>\n",
       "      <th>Churn</th>\n",
       "    </tr>\n",
       "  </thead>\n",
       "  <tbody>\n",
       "    <tr>\n",
       "      <th>0</th>\n",
       "      <td>7590-VHVEG</td>\n",
       "      <td>Female</td>\n",
       "      <td>0</td>\n",
       "      <td>Yes</td>\n",
       "      <td>No</td>\n",
       "      <td>1</td>\n",
       "      <td>No</td>\n",
       "      <td>No phone service</td>\n",
       "      <td>DSL</td>\n",
       "      <td>No</td>\n",
       "      <td>...</td>\n",
       "      <td>No</td>\n",
       "      <td>No</td>\n",
       "      <td>No</td>\n",
       "      <td>No</td>\n",
       "      <td>Month-to-month</td>\n",
       "      <td>Yes</td>\n",
       "      <td>Electronic check</td>\n",
       "      <td>29.85</td>\n",
       "      <td>29.85</td>\n",
       "      <td>No</td>\n",
       "    </tr>\n",
       "    <tr>\n",
       "      <th>1</th>\n",
       "      <td>5575-GNVDE</td>\n",
       "      <td>Male</td>\n",
       "      <td>0</td>\n",
       "      <td>No</td>\n",
       "      <td>No</td>\n",
       "      <td>34</td>\n",
       "      <td>Yes</td>\n",
       "      <td>No</td>\n",
       "      <td>DSL</td>\n",
       "      <td>Yes</td>\n",
       "      <td>...</td>\n",
       "      <td>Yes</td>\n",
       "      <td>No</td>\n",
       "      <td>No</td>\n",
       "      <td>No</td>\n",
       "      <td>One year</td>\n",
       "      <td>No</td>\n",
       "      <td>Mailed check</td>\n",
       "      <td>56.95</td>\n",
       "      <td>1889.5</td>\n",
       "      <td>No</td>\n",
       "    </tr>\n",
       "    <tr>\n",
       "      <th>2</th>\n",
       "      <td>3668-QPYBK</td>\n",
       "      <td>Male</td>\n",
       "      <td>0</td>\n",
       "      <td>No</td>\n",
       "      <td>No</td>\n",
       "      <td>2</td>\n",
       "      <td>Yes</td>\n",
       "      <td>No</td>\n",
       "      <td>DSL</td>\n",
       "      <td>Yes</td>\n",
       "      <td>...</td>\n",
       "      <td>No</td>\n",
       "      <td>No</td>\n",
       "      <td>No</td>\n",
       "      <td>No</td>\n",
       "      <td>Month-to-month</td>\n",
       "      <td>Yes</td>\n",
       "      <td>Mailed check</td>\n",
       "      <td>53.85</td>\n",
       "      <td>108.15</td>\n",
       "      <td>Yes</td>\n",
       "    </tr>\n",
       "    <tr>\n",
       "      <th>3</th>\n",
       "      <td>7795-CFOCW</td>\n",
       "      <td>Male</td>\n",
       "      <td>0</td>\n",
       "      <td>No</td>\n",
       "      <td>No</td>\n",
       "      <td>45</td>\n",
       "      <td>No</td>\n",
       "      <td>No phone service</td>\n",
       "      <td>DSL</td>\n",
       "      <td>Yes</td>\n",
       "      <td>...</td>\n",
       "      <td>Yes</td>\n",
       "      <td>Yes</td>\n",
       "      <td>No</td>\n",
       "      <td>No</td>\n",
       "      <td>One year</td>\n",
       "      <td>No</td>\n",
       "      <td>Bank transfer (automatic)</td>\n",
       "      <td>42.30</td>\n",
       "      <td>1840.75</td>\n",
       "      <td>No</td>\n",
       "    </tr>\n",
       "    <tr>\n",
       "      <th>4</th>\n",
       "      <td>9237-HQITU</td>\n",
       "      <td>Female</td>\n",
       "      <td>0</td>\n",
       "      <td>No</td>\n",
       "      <td>No</td>\n",
       "      <td>2</td>\n",
       "      <td>Yes</td>\n",
       "      <td>No</td>\n",
       "      <td>Fiber optic</td>\n",
       "      <td>No</td>\n",
       "      <td>...</td>\n",
       "      <td>No</td>\n",
       "      <td>No</td>\n",
       "      <td>No</td>\n",
       "      <td>No</td>\n",
       "      <td>Month-to-month</td>\n",
       "      <td>Yes</td>\n",
       "      <td>Electronic check</td>\n",
       "      <td>70.70</td>\n",
       "      <td>151.65</td>\n",
       "      <td>Yes</td>\n",
       "    </tr>\n",
       "  </tbody>\n",
       "</table>\n",
       "<p>5 rows × 21 columns</p>\n",
       "</div>"
      ],
      "text/plain": [
       "   customerID  gender  SeniorCitizen Partner Dependents  tenure PhoneService  \\\n",
       "0  7590-VHVEG  Female              0     Yes         No       1           No   \n",
       "1  5575-GNVDE    Male              0      No         No      34          Yes   \n",
       "2  3668-QPYBK    Male              0      No         No       2          Yes   \n",
       "3  7795-CFOCW    Male              0      No         No      45           No   \n",
       "4  9237-HQITU  Female              0      No         No       2          Yes   \n",
       "\n",
       "      MultipleLines InternetService OnlineSecurity  ... DeviceProtection  \\\n",
       "0  No phone service             DSL             No  ...               No   \n",
       "1                No             DSL            Yes  ...              Yes   \n",
       "2                No             DSL            Yes  ...               No   \n",
       "3  No phone service             DSL            Yes  ...              Yes   \n",
       "4                No     Fiber optic             No  ...               No   \n",
       "\n",
       "  TechSupport StreamingTV StreamingMovies        Contract PaperlessBilling  \\\n",
       "0          No          No              No  Month-to-month              Yes   \n",
       "1          No          No              No        One year               No   \n",
       "2          No          No              No  Month-to-month              Yes   \n",
       "3         Yes          No              No        One year               No   \n",
       "4          No          No              No  Month-to-month              Yes   \n",
       "\n",
       "               PaymentMethod MonthlyCharges  TotalCharges Churn  \n",
       "0           Electronic check          29.85         29.85    No  \n",
       "1               Mailed check          56.95        1889.5    No  \n",
       "2               Mailed check          53.85        108.15   Yes  \n",
       "3  Bank transfer (automatic)          42.30       1840.75    No  \n",
       "4           Electronic check          70.70        151.65   Yes  \n",
       "\n",
       "[5 rows x 21 columns]"
      ]
     },
     "execution_count": 3,
     "metadata": {},
     "output_type": "execute_result"
    }
   ],
   "source": [
    "data.head()"
   ]
  },
  {
   "cell_type": "code",
   "execution_count": 4,
   "id": "db7b62c7",
   "metadata": {},
   "outputs": [
    {
     "data": {
      "text/plain": [
       "customerID          0\n",
       "gender              0\n",
       "SeniorCitizen       0\n",
       "Partner             0\n",
       "Dependents          0\n",
       "tenure              0\n",
       "PhoneService        0\n",
       "MultipleLines       0\n",
       "InternetService     0\n",
       "OnlineSecurity      0\n",
       "OnlineBackup        0\n",
       "DeviceProtection    0\n",
       "TechSupport         0\n",
       "StreamingTV         0\n",
       "StreamingMovies     0\n",
       "Contract            0\n",
       "PaperlessBilling    0\n",
       "PaymentMethod       0\n",
       "MonthlyCharges      0\n",
       "TotalCharges        0\n",
       "Churn               0\n",
       "dtype: int64"
      ]
     },
     "execution_count": 4,
     "metadata": {},
     "output_type": "execute_result"
    }
   ],
   "source": [
    "data.isnull().sum()"
   ]
  },
  {
   "cell_type": "code",
   "execution_count": 5,
   "id": "d4f4e613",
   "metadata": {},
   "outputs": [
    {
     "name": "stdout",
     "output_type": "stream",
     "text": [
      "<class 'pandas.core.frame.DataFrame'>\n",
      "RangeIndex: 7043 entries, 0 to 7042\n",
      "Data columns (total 21 columns):\n",
      " #   Column            Non-Null Count  Dtype  \n",
      "---  ------            --------------  -----  \n",
      " 0   customerID        7043 non-null   object \n",
      " 1   gender            7043 non-null   object \n",
      " 2   SeniorCitizen     7043 non-null   int64  \n",
      " 3   Partner           7043 non-null   object \n",
      " 4   Dependents        7043 non-null   object \n",
      " 5   tenure            7043 non-null   int64  \n",
      " 6   PhoneService      7043 non-null   object \n",
      " 7   MultipleLines     7043 non-null   object \n",
      " 8   InternetService   7043 non-null   object \n",
      " 9   OnlineSecurity    7043 non-null   object \n",
      " 10  OnlineBackup      7043 non-null   object \n",
      " 11  DeviceProtection  7043 non-null   object \n",
      " 12  TechSupport       7043 non-null   object \n",
      " 13  StreamingTV       7043 non-null   object \n",
      " 14  StreamingMovies   7043 non-null   object \n",
      " 15  Contract          7043 non-null   object \n",
      " 16  PaperlessBilling  7043 non-null   object \n",
      " 17  PaymentMethod     7043 non-null   object \n",
      " 18  MonthlyCharges    7043 non-null   float64\n",
      " 19  TotalCharges      7043 non-null   object \n",
      " 20  Churn             7043 non-null   object \n",
      "dtypes: float64(1), int64(2), object(18)\n",
      "memory usage: 1.1+ MB\n"
     ]
    }
   ],
   "source": [
    "data.info()"
   ]
  },
  {
   "cell_type": "code",
   "execution_count": 6,
   "id": "3ed40968",
   "metadata": {},
   "outputs": [
    {
     "data": {
      "text/html": [
       "<div>\n",
       "<style scoped>\n",
       "    .dataframe tbody tr th:only-of-type {\n",
       "        vertical-align: middle;\n",
       "    }\n",
       "\n",
       "    .dataframe tbody tr th {\n",
       "        vertical-align: top;\n",
       "    }\n",
       "\n",
       "    .dataframe thead th {\n",
       "        text-align: right;\n",
       "    }\n",
       "</style>\n",
       "<table border=\"1\" class=\"dataframe\">\n",
       "  <thead>\n",
       "    <tr style=\"text-align: right;\">\n",
       "      <th></th>\n",
       "      <th>SeniorCitizen</th>\n",
       "      <th>tenure</th>\n",
       "      <th>MonthlyCharges</th>\n",
       "    </tr>\n",
       "  </thead>\n",
       "  <tbody>\n",
       "    <tr>\n",
       "      <th>count</th>\n",
       "      <td>7043.000000</td>\n",
       "      <td>7043.000000</td>\n",
       "      <td>7043.000000</td>\n",
       "    </tr>\n",
       "    <tr>\n",
       "      <th>mean</th>\n",
       "      <td>0.162147</td>\n",
       "      <td>32.371149</td>\n",
       "      <td>64.761692</td>\n",
       "    </tr>\n",
       "    <tr>\n",
       "      <th>std</th>\n",
       "      <td>0.368612</td>\n",
       "      <td>24.559481</td>\n",
       "      <td>30.090047</td>\n",
       "    </tr>\n",
       "    <tr>\n",
       "      <th>min</th>\n",
       "      <td>0.000000</td>\n",
       "      <td>0.000000</td>\n",
       "      <td>18.250000</td>\n",
       "    </tr>\n",
       "    <tr>\n",
       "      <th>25%</th>\n",
       "      <td>0.000000</td>\n",
       "      <td>9.000000</td>\n",
       "      <td>35.500000</td>\n",
       "    </tr>\n",
       "    <tr>\n",
       "      <th>50%</th>\n",
       "      <td>0.000000</td>\n",
       "      <td>29.000000</td>\n",
       "      <td>70.350000</td>\n",
       "    </tr>\n",
       "    <tr>\n",
       "      <th>75%</th>\n",
       "      <td>0.000000</td>\n",
       "      <td>55.000000</td>\n",
       "      <td>89.850000</td>\n",
       "    </tr>\n",
       "    <tr>\n",
       "      <th>max</th>\n",
       "      <td>1.000000</td>\n",
       "      <td>72.000000</td>\n",
       "      <td>118.750000</td>\n",
       "    </tr>\n",
       "  </tbody>\n",
       "</table>\n",
       "</div>"
      ],
      "text/plain": [
       "       SeniorCitizen       tenure  MonthlyCharges\n",
       "count    7043.000000  7043.000000     7043.000000\n",
       "mean        0.162147    32.371149       64.761692\n",
       "std         0.368612    24.559481       30.090047\n",
       "min         0.000000     0.000000       18.250000\n",
       "25%         0.000000     9.000000       35.500000\n",
       "50%         0.000000    29.000000       70.350000\n",
       "75%         0.000000    55.000000       89.850000\n",
       "max         1.000000    72.000000      118.750000"
      ]
     },
     "execution_count": 6,
     "metadata": {},
     "output_type": "execute_result"
    }
   ],
   "source": [
    "data.describe()"
   ]
  },
  {
   "cell_type": "markdown",
   "id": "16b9e096",
   "metadata": {},
   "source": [
    "**ABOUT DATA:**\n",
    "1. Customers who left within the last month – the column is called Churn\n",
    "2. Services that each customer has signed up for – phone, multiple lines, internet, online security, online backup, device protection, tech support, and streaming TV and movies\n",
    "3. Customer account information – how long they’ve been a customer, contract, payment method, paperless billing, monthly charges, and total charges\n",
    "4. Demographic info about customers – gender, age range, and if they have partners and dependents."
   ]
  },
  {
   "cell_type": "markdown",
   "id": "0c1693a2",
   "metadata": {},
   "source": [
    "\n",
    "# Data Pre-Processing"
   ]
  },
  {
   "cell_type": "code",
   "execution_count": 7,
   "id": "6c675cc0",
   "metadata": {},
   "outputs": [],
   "source": [
    "data.loc[data[\"MultipleLines\"] == \"No phone service\", \"MultipleLines\"] = 'No'\n",
    "data.loc[data[\"OnlineSecurity\"] == \"No internet service\", \"OnlineSecurity\"] = 'No'\n",
    "data.loc[data[\"OnlineBackup\"] == \"No internet service\", \"OnlineBackup\"] = 'No'\n",
    "data.loc[data[\"DeviceProtection\"] == \"No internet service\", \"DeviceProtection\"] = 'No'\n",
    "data.loc[data[\"TechSupport\"] == \"No internet service\", \"TechSupport\"] = 'No'\n",
    "data.loc[data[\"StreamingTV\"] == \"No internet service\", \"StreamingTV\"] = 'No'\n",
    "data.loc[data[\"StreamingMovies\"] == \"No internet service\", \"StreamingMovies\"] = 'No'\n",
    "data.loc[data[\"DeviceProtection\"] == \"No internet service\", \"DeviceProtection\"] = 'No'\n"
   ]
  },
  {
   "cell_type": "code",
   "execution_count": 8,
   "id": "4589c61b",
   "metadata": {},
   "outputs": [],
   "source": [
    "data.loc[data[\"TotalCharges\"] == \" \", \"TotalCharges\"] = '0'\n",
    "data['TotalCharges'] = pd.to_numeric(data['TotalCharges'])"
   ]
  },
  {
   "cell_type": "markdown",
   "id": "d3efbc89",
   "metadata": {},
   "source": [
    "# EDA"
   ]
  },
  {
   "cell_type": "code",
   "execution_count": 9,
   "id": "a28179ab",
   "metadata": {},
   "outputs": [],
   "source": [
    "churn = len(data[data[\"Churn\"]==\"Yes\"])\n",
    "no_churn = len(data[data[\"Churn\"]==\"No\"])\n",
    "churn_per = churn/len(data[\"Churn\"])*100\n",
    "no_churn_per = no_churn/len(data[\"Churn\"])*100"
   ]
  },
  {
   "cell_type": "code",
   "execution_count": 10,
   "id": "8f8365f0",
   "metadata": {},
   "outputs": [
    {
     "data": {
      "text/plain": [
       "(26.536987079369588, 73.4630129206304)"
      ]
     },
     "execution_count": 10,
     "metadata": {},
     "output_type": "execute_result"
    }
   ],
   "source": [
    "churn_per,no_churn_per"
   ]
  },
  {
   "cell_type": "markdown",
   "id": "d0157c08",
   "metadata": {},
   "source": [
    "**Categorical Features**"
   ]
  },
  {
   "cell_type": "code",
   "execution_count": 11,
   "id": "a4bf0fca",
   "metadata": {},
   "outputs": [
    {
     "data": {
      "image/png": "[encoded data removed]",
      "text/plain": [
       "<Figure size 1080x2160 with 18 Axes>"
      ]
     },
     "metadata": {
      "needs_background": "light"
     },
     "output_type": "display_data"
    }
   ],
   "source": [
    "fig,axes=plt.subplots(6,3, figsize=(15, 30))\n",
    "axes = axes.flatten()\n",
    "\n",
    "categories = ['gender', 'SeniorCitizen', 'Partner', 'Dependents', 'PhoneService', 'MultipleLines',\n",
    "              'InternetService','OnlineSecurity', 'OnlineBackup', 'DeviceProtection', 'TechSupport', \n",
    "              'StreamingTV', 'StreamingMovies', 'Contract','PaperlessBilling', 'PaymentMethod']\n",
    "\n",
    "for i in range(len(categories)):\n",
    "    \n",
    "    ax= sns.countplot(x=categories[i], data = data, palette = 'Set2', ax=axes[i], hue = 'Churn')"
   ]
  },
  {
   "cell_type": "markdown",
   "id": "28dd6ce3",
   "metadata": {},
   "source": [
    "**Numerical Features**"
   ]
  },
  {
   "cell_type": "code",
   "execution_count": 12,
   "id": "eddf7594",
   "metadata": {},
   "outputs": [
    {
     "data": {
      "image/png": "[encoded data removed]",
      "text/plain": [
       "<Figure size 1080x216 with 3 Axes>"
      ]
     },
     "metadata": {
      "needs_background": "light"
     },
     "output_type": "display_data"
    }
   ],
   "source": [
    "fig,axes=plt.subplots(1,3, figsize=(15, 3))\n",
    "numeric = ['tenure', 'MonthlyCharges', 'TotalCharges']\n",
    "\n",
    "ax = sns.histplot(data['tenure'].values, ax=axes[0]).set_title('tenure')\n",
    "ax = sns.histplot(data['MonthlyCharges'].values, ax=axes[1]).set_title('MonthlyCharges')\n",
    "ax = sns.histplot(data['TotalCharges'].values, ax=axes[2]).set_title('TotalCharges')"
   ]
  },
  {
   "cell_type": "markdown",
   "id": "ee46992f",
   "metadata": {},
   "source": [
    "**Noticeable Trends:**\n",
    "\n",
    "1. Sensior Citizens: most customers are not Senior Citizens.\n",
    "2. InternetService: higher churn rate for customers using Fiber Optic.\n",
    "3. OnlineSecurity: higher churn rate for customers with no OnlineSecurity.\n",
    "4. Contract: higher churn rate for customers unnder Month-to-Month Contract.\n"
   ]
  },
  {
   "cell_type": "code",
   "execution_count": 13,
   "id": "9a3169eb",
   "metadata": {},
   "outputs": [],
   "source": [
    "bins = [0,5, 10, 15, 20, 25,30,35,40,50, 55, 60, 65, 70, 80]\n",
    "labels = ['5', '10', '15', '20', '25','30','35','40','50', '55', '60', '65', '70', '80']\n",
    "data['Tenure_bins'] = pd.cut(data['tenure'], bins=bins, labels=labels)\n",
    "\n",
    "\n",
    "bins = [18, 28, 38, 48, 58,68,78,88,98]\n",
    "labels = ['28', '38', '48', '58','68','78','88','98']\n",
    "data['MonthlyCharges_bins'] = pd.cut(data['MonthlyCharges'], bins=bins, labels=labels)\n",
    "\n",
    "bins = [-10, 1000, 2000, 3000, 4000, 5000, 6000, 7000, 8000, 9000]\n",
    "labels = ['1000', '2000', '3000', '4000', '5000','6000','7000','8000','9000']\n",
    "data['TotalCharges_bins'] = pd.cut(data['TotalCharges'], bins=bins, labels=labels)"
   ]
  },
  {
   "cell_type": "code",
   "execution_count": 14,
   "id": "f1501421",
   "metadata": {},
   "outputs": [
    {
     "data": {
      "image/png": "[encoded data removed]",
      "text/plain": [
       "<Figure size 1008x1080 with 3 Axes>"
      ]
     },
     "metadata": {
      "needs_background": "light"
     },
     "output_type": "display_data"
    }
   ],
   "source": [
    "fig, ax = plt.subplots(nrows = 3,ncols = 1,figsize = (14,15))\n",
    "numeric_feat = ['Tenure_bins', 'MonthlyCharges_bins', 'TotalCharges_bins']\n",
    "\n",
    "for i in range(3):\n",
    "    plt.subplot(3,1,i+1)\n",
    "    sns.countplot(x=numeric_feat[i],data = data,hue = \"Churn\",edgecolor = 'black')\n",
    "    plt.legend(['No Churn','Churn'],loc = 'best')\n",
    "    title = numeric_feat[i]\n",
    "    plt.title(title)"
   ]
  },
  {
   "cell_type": "markdown",
   "id": "4341c572",
   "metadata": {},
   "source": [
    "**Noticeable Trend:**\n",
    "\n",
    "1. The shorter the tenure, the more likely the user will churn.**many churned users only have 5 or lower months of tenure.**\n",
    "2. The higher the charges in total or monthly, the more likely the user will churn. **Noticeable increase proportion of churned users from having to pay $78 and above**."
   ]
  },
  {
   "cell_type": "markdown",
   "id": "4f74c721",
   "metadata": {},
   "source": [
    "# Data Post-Processing."
   ]
  },
  {
   "cell_type": "code",
   "execution_count": 15,
   "id": "ffc7d618",
   "metadata": {},
   "outputs": [
    {
     "name": "stdout",
     "output_type": "stream",
     "text": [
      "Label Encoder Transformation\n",
      "gender  :  [0 1]  =  ['Female' 'Male']\n",
      "SeniorCitizen  :  [0 1]  =  [0 1]\n",
      "Partner  :  [1 0]  =  ['Yes' 'No']\n",
      "Dependents  :  [0 1]  =  ['No' 'Yes']\n",
      "PhoneService  :  [0 1]  =  ['No' 'Yes']\n",
      "MultipleLines  :  [0 1]  =  ['No' 'Yes']\n",
      "InternetService  :  [0 1 2]  =  ['DSL' 'Fiber optic' 'No']\n",
      "OnlineSecurity  :  [0 1]  =  ['No' 'Yes']\n",
      "OnlineBackup  :  [1 0]  =  ['Yes' 'No']\n",
      "DeviceProtection  :  [0 1]  =  ['No' 'Yes']\n",
      "TechSupport  :  [0 1]  =  ['No' 'Yes']\n",
      "StreamingTV  :  [0 1]  =  ['No' 'Yes']\n",
      "StreamingMovies  :  [0 1]  =  ['No' 'Yes']\n",
      "Contract  :  [0 1 2]  =  ['Month-to-month' 'One year' 'Two year']\n",
      "PaperlessBilling  :  [1 0]  =  ['Yes' 'No']\n",
      "PaymentMethod  :  [2 3 0 1]  =  ['Electronic check' 'Mailed check' 'Bank transfer (automatic)'\n",
      " 'Credit card (automatic)']\n",
      "Churn  :  [0 1]  =  ['No' 'Yes']\n"
     ]
    }
   ],
   "source": [
    "from sklearn.preprocessing import LabelEncoder\n",
    "df_final = data.copy()\n",
    "le = LabelEncoder()\n",
    "\n",
    "text_data_features = ['gender', 'SeniorCitizen', 'Partner', 'Dependents', 'PhoneService', 'MultipleLines',\n",
    "              'InternetService','OnlineSecurity', 'OnlineBackup', 'DeviceProtection', 'TechSupport', \n",
    "              'StreamingTV', 'StreamingMovies', 'Contract','PaperlessBilling', 'PaymentMethod', 'Churn']\n",
    "\n",
    "print('Label Encoder Transformation')\n",
    "for i in text_data_features :\n",
    "    df_final[i] = le.fit_transform(df_final[i])\n",
    "    print(i,' : ',df_final[i].unique(),' = ',le.inverse_transform(df_final[i].unique()))"
   ]
  },
  {
   "cell_type": "code",
   "execution_count": 16,
   "id": "5b955e27",
   "metadata": {},
   "outputs": [
    {
     "name": "stdout",
     "output_type": "stream",
     "text": [
      "<class 'pandas.core.frame.DataFrame'>\n",
      "RangeIndex: 7043 entries, 0 to 7042\n",
      "Data columns (total 24 columns):\n",
      " #   Column               Non-Null Count  Dtype   \n",
      "---  ------               --------------  -----   \n",
      " 0   customerID           7043 non-null   object  \n",
      " 1   gender               7043 non-null   object  \n",
      " 2   SeniorCitizen        7043 non-null   object  \n",
      " 3   Partner              7043 non-null   object  \n",
      " 4   Dependents           7043 non-null   object  \n",
      " 5   tenure               7043 non-null   object  \n",
      " 6   PhoneService         7043 non-null   object  \n",
      " 7   MultipleLines        7043 non-null   object  \n",
      " 8   InternetService      7043 non-null   object  \n",
      " 9   OnlineSecurity       7043 non-null   object  \n",
      " 10  OnlineBackup         7043 non-null   object  \n",
      " 11  DeviceProtection     7043 non-null   object  \n",
      " 12  TechSupport          7043 non-null   object  \n",
      " 13  StreamingTV          7043 non-null   object  \n",
      " 14  StreamingMovies      7043 non-null   object  \n",
      " 15  Contract             7043 non-null   object  \n",
      " 16  PaperlessBilling     7043 non-null   object  \n",
      " 17  PaymentMethod        7043 non-null   object  \n",
      " 18  MonthlyCharges       7043 non-null   float64 \n",
      " 19  TotalCharges         7043 non-null   float64 \n",
      " 20  Churn                7043 non-null   object  \n",
      " 21  Tenure_bins          7032 non-null   category\n",
      " 22  MonthlyCharges_bins  5957 non-null   category\n",
      " 23  TotalCharges_bins    7043 non-null   category\n",
      "dtypes: category(3), float64(2), object(19)\n",
      "memory usage: 1.2+ MB\n"
     ]
    }
   ],
   "source": [
    "data[\"SeniorCitizen\"]=data[\"SeniorCitizen\"].astype(str)\n",
    "data[\"tenure\"]=data[\"tenure\"].astype(str)\n",
    "data.info()"
   ]
  },
  {
   "cell_type": "code",
   "execution_count": 17,
   "id": "a90a3110",
   "metadata": {},
   "outputs": [
    {
     "data": {
      "image/png": "[encoded data removed]",
      "text/plain": [
       "<Figure size 360x360 with 2 Axes>"
      ]
     },
     "metadata": {
      "needs_background": "light"
     },
     "output_type": "display_data"
    }
   ],
   "source": [
    "\n",
    "corr = df_final.corrwith(df_final['Churn']).sort_values(ascending = False).to_frame()\n",
    "corr.columns = ['Correlations']\n",
    "plt.subplots(figsize = (5,5))\n",
    "sns.heatmap(corr,annot = True,linewidths = 0.4,linecolor = 'black');\n",
    "plt.title('Correlation with Churn'); "
   ]
  },
  {
   "cell_type": "code",
   "execution_count": 18,
   "id": "44d3b45f",
   "metadata": {},
   "outputs": [],
   "source": [
    "df_final = pd.get_dummies(df_final, columns = ['gender', 'SeniorCitizen', 'Partner', 'Dependents', 'PhoneService', 'MultipleLines',\n",
    "              'InternetService','OnlineSecurity', 'OnlineBackup', 'DeviceProtection', 'TechSupport', \n",
    "              'StreamingTV', 'StreamingMovies', 'Contract','PaperlessBilling', 'PaymentMethod'], drop_first=True)\n",
    "\n"
   ]
  },
  {
   "cell_type": "markdown",
   "id": "56182e15",
   "metadata": {},
   "source": [
    "# Train - Test  And Model Evaluation"
   ]
  },
  {
   "cell_type": "code",
   "execution_count": 19,
   "id": "fba7407a",
   "metadata": {},
   "outputs": [],
   "source": [
    "\n",
    "from sklearn.tree import DecisionTreeClassifier\n",
    "from sklearn.tree import plot_tree\n",
    "from sklearn.model_selection import train_test_split\n",
    "from sklearn.metrics import confusion_matrix, classification_report, log_loss\n",
    "from sklearn.metrics import precision_score, recall_score, f1_score, accuracy_score\n",
    "from sklearn.ensemble import RandomForestClassifier\n",
    "from sklearn.linear_model import LogisticRegression\n",
    "from sklearn.svm import SVC\n",
    "from sklearn.naive_bayes import GaussianNB\n",
    "from sklearn import neighbors\n",
    "from sklearn.preprocessing import StandardScaler\n",
    "from sklearn.model_selection import GridSearchCV, RandomizedSearchCV"
   ]
  },
  {
   "cell_type": "code",
   "execution_count": 20,
   "id": "a06cab0d",
   "metadata": {},
   "outputs": [],
   "source": [
    "from xgboost import XGBClassifier\n"
   ]
  },
  {
   "cell_type": "code",
   "execution_count": 21,
   "id": "f835ec2f",
   "metadata": {},
   "outputs": [],
   "source": [
    "X = df_final.drop(['Churn','customerID','MonthlyCharges_bins','TotalCharges_bins','Tenure_bins'], axis=1)\n",
    "y = df_final['Churn']\n",
    "X_train, X_test, y_train, y_test = train_test_split(X, y, random_state=101,test_size=0.30)"
   ]
  },
  {
   "cell_type": "code",
   "execution_count": 22,
   "id": "d9dd7c07",
   "metadata": {},
   "outputs": [],
   "source": [
    "models = []\n",
    "acc_lst = []\n",
    "prec_lst = []\n",
    "recall_lst = []\n",
    "f1_lst = []\n"
   ]
  },
  {
   "cell_type": "code",
   "execution_count": 23,
   "id": "a082ccfc",
   "metadata": {},
   "outputs": [
    {
     "name": "stdout",
     "output_type": "stream",
     "text": [
      "Accuracy: 0.7856\n",
      "Precision: 0.6404\n",
      "Recall: 0.4586\n",
      "F1: 0.5344\n",
      "\n",
      "              precision    recall  f1-score   support\n",
      "\n",
      "           0       0.82      0.91      0.86      1546\n",
      "           1       0.64      0.46      0.53       567\n",
      "\n",
      "    accuracy                           0.79      2113\n",
      "   macro avg       0.73      0.68      0.70      2113\n",
      "weighted avg       0.77      0.79      0.77      2113\n",
      "\n"
     ]
    }
   ],
   "source": [
    "clf=RandomForestClassifier(n_estimators=100)\n",
    "clf_fit = clf.fit(X_train,y_train)\n",
    "y_pred=clf.predict(X_test)\n",
    "\n",
    "models.append(\"Random Forest\")\n",
    "acc_lst.append(accuracy_score(y_test, y_pred))\n",
    "prec_lst.append(precision_score(y_test, y_pred))\n",
    "recall_lst.append(recall_score(y_test, y_pred))\n",
    "f1_lst.append(f1_score(y_test, y_pred))\n",
    "\n",
    "\n",
    "print(\"Accuracy:\", float(format(accuracy_score(y_test, y_pred), '.4f')))\n",
    "print(\"Precision:\", float(format(precision_score(y_test, y_pred), '.4f')))\n",
    "print(\"Recall:\", float(format(recall_score(y_test, y_pred), '.4f')))\n",
    "print(\"F1:\", float(format(f1_score(y_test, y_pred), '.4f')))\n",
    "print('')\n",
    "print(classification_report(y_test, y_pred))"
   ]
  },
  {
   "cell_type": "code",
   "execution_count": 24,
   "id": "4ae9d19d",
   "metadata": {},
   "outputs": [
    {
     "name": "stdout",
     "output_type": "stream",
     "text": [
      "Accuracy: 0.7799\n",
      "Precision: 0.6099\n",
      "Recall: 0.4991\n",
      "F1: 0.549\n",
      "\n",
      "              precision    recall  f1-score   support\n",
      "\n",
      "           0       0.83      0.88      0.85      1546\n",
      "           1       0.61      0.50      0.55       567\n",
      "\n",
      "    accuracy                           0.78      2113\n",
      "   macro avg       0.72      0.69      0.70      2113\n",
      "weighted avg       0.77      0.78      0.77      2113\n",
      "\n"
     ]
    }
   ],
   "source": [
    "xgb = XGBClassifier()\n",
    "xgb_fit = xgb.fit(X_train, y_train)\n",
    "y_pred = xgb.predict(X_test)\n",
    "\n",
    "\n",
    "models.append(\"XGBoost\")\n",
    "acc_lst.append(accuracy_score(y_test, y_pred))\n",
    "prec_lst.append(precision_score(y_test, y_pred))\n",
    "recall_lst.append(recall_score(y_test, y_pred))\n",
    "f1_lst.append(f1_score(y_test, y_pred))\n",
    "\n",
    "print(\"Accuracy:\", float(format(accuracy_score(y_test, y_pred), '.4f')))\n",
    "print(\"Precision:\", float(format(precision_score(y_test, y_pred), '.4f')))\n",
    "print(\"Recall:\", float(format(recall_score(y_test, y_pred), '.4f')))\n",
    "print(\"F1:\", float(format(f1_score(y_test, y_pred), '.4f')))\n",
    "\n",
    "print('')\n",
    "print(classification_report(y_test, y_pred))"
   ]
  },
  {
   "cell_type": "code",
   "execution_count": 25,
   "id": "4bcdae1d",
   "metadata": {},
   "outputs": [
    {
     "name": "stdout",
     "output_type": "stream",
     "text": [
      "Accuracy: 0.797\n",
      "Precision: 0.6561\n",
      "Recall: 0.5115\n",
      "F1: 0.5748\n",
      "\n",
      "              precision    recall  f1-score   support\n",
      "\n",
      "           0       0.83      0.90      0.87      1546\n",
      "           1       0.66      0.51      0.57       567\n",
      "\n",
      "    accuracy                           0.80      2113\n",
      "   macro avg       0.75      0.71      0.72      2113\n",
      "weighted avg       0.79      0.80      0.79      2113\n",
      "\n"
     ]
    }
   ],
   "source": [
    "from sklearn.decomposition import PCA\n",
    "scaler = StandardScaler()\n",
    "X_train = scaler.fit_transform(X_train)\n",
    "X_test = scaler.transform(X_test)\n",
    "\n",
    "pca = PCA(n_components=0.95) \n",
    "X_train_pca = pca.fit_transform(X_train)\n",
    "X_test_pca = pca.transform(X_test)\n",
    "\n",
    "\n",
    "svc = SVC(kernel='linear')\n",
    "svc.fit(X_train_pca, y_train)\n",
    "\n",
    "\n",
    "y_pred = svc.predict(X_test_pca)\n",
    "Svc = SVC(kernel=\"linear\")\n",
    "svsfit = Svc.fit(X_train,y_train)\n",
    "y_pred = Svc.predict(X_test)\n",
    "\n",
    "models.append(\"SVC-linear\")\n",
    "acc_lst.append(accuracy_score(y_test, y_pred))\n",
    "prec_lst.append(precision_score(y_test, y_pred))\n",
    "recall_lst.append(recall_score(y_test, y_pred))\n",
    "f1_lst.append(f1_score(y_test, y_pred))\n",
    "\n",
    "print(\"Accuracy:\", float(format(accuracy_score(y_test, y_pred), '.4f')))\n",
    "print(\"Precision:\", float(format(precision_score(y_test, y_pred), '.4f')))\n",
    "print(\"Recall:\", float(format(recall_score(y_test, y_pred), '.4f')))\n",
    "print(\"F1:\", float(format(f1_score(y_test, y_pred), '.4f')))\n",
    "\n",
    "print('')\n",
    "print(classification_report(y_test, y_pred))"
   ]
  },
  {
   "cell_type": "code",
   "execution_count": 26,
   "id": "c879b1ba",
   "metadata": {},
   "outputs": [
    {
     "name": "stdout",
     "output_type": "stream",
     "text": [
      "Accuracy: 0.8041\n",
      "Precision: 0.687\n",
      "Recall: 0.4956\n",
      "F1: 0.5758\n",
      "\n",
      "              precision    recall  f1-score   support\n",
      "\n",
      "           0       0.83      0.92      0.87      1546\n",
      "           1       0.69      0.50      0.58       567\n",
      "\n",
      "    accuracy                           0.80      2113\n",
      "   macro avg       0.76      0.71      0.72      2113\n",
      "weighted avg       0.79      0.80      0.79      2113\n",
      "\n"
     ]
    }
   ],
   "source": [
    "\n",
    "svc = SVC(kernel='rbf')\n",
    "svc.fit(X_train_pca, y_train)\n",
    "\n",
    "\n",
    "y_pred = svc.predict(X_test_pca)\n",
    "Svc = SVC(kernel=\"rbf\")\n",
    "svsfit = Svc.fit(X_train,y_train)\n",
    "y_pred = Svc.predict(X_test)\n",
    "\n",
    "models.append(\"SVC-rbf\")\n",
    "acc_lst.append(accuracy_score(y_test, y_pred))\n",
    "prec_lst.append(precision_score(y_test, y_pred))\n",
    "recall_lst.append(recall_score(y_test, y_pred))\n",
    "f1_lst.append(f1_score(y_test, y_pred))\n",
    "\n",
    "print(\"Accuracy:\", float(format(accuracy_score(y_test, y_pred), '.4f')))\n",
    "print(\"Precision:\", float(format(precision_score(y_test, y_pred), '.4f')))\n",
    "print(\"Recall:\", float(format(recall_score(y_test, y_pred), '.4f')))\n",
    "print(\"F1:\", float(format(f1_score(y_test, y_pred), '.4f')))\n",
    "\n",
    "print('')\n",
    "print(classification_report(y_test, y_pred))"
   ]
  },
  {
   "cell_type": "code",
   "execution_count": 27,
   "id": "9a70e9e5",
   "metadata": {},
   "outputs": [
    {
     "name": "stdout",
     "output_type": "stream",
     "text": [
      "Accuracy: 0.7951\n",
      "Precision: 0.6727\n",
      "Recall: 0.4603\n",
      "F1: 0.5466\n",
      "\n",
      "              precision    recall  f1-score   support\n",
      "\n",
      "           0       0.82      0.92      0.87      1546\n",
      "           1       0.67      0.46      0.55       567\n",
      "\n",
      "    accuracy                           0.80      2113\n",
      "   macro avg       0.75      0.69      0.71      2113\n",
      "weighted avg       0.78      0.80      0.78      2113\n",
      "\n"
     ]
    }
   ],
   "source": [
    "svc = SVC(kernel='poly')\n",
    "svc.fit(X_train_pca, y_train)\n",
    "\n",
    "\n",
    "y_pred = svc.predict(X_test_pca)\n",
    "Svc = SVC(kernel=\"poly\")\n",
    "svsfit = Svc.fit(X_train,y_train)\n",
    "y_pred = Svc.predict(X_test)\n",
    "\n",
    "models.append(\"SVC-poly\")\n",
    "acc_lst.append(accuracy_score(y_test, y_pred))\n",
    "prec_lst.append(precision_score(y_test, y_pred))\n",
    "recall_lst.append(recall_score(y_test, y_pred))\n",
    "f1_lst.append(f1_score(y_test, y_pred))\n",
    "\n",
    "print(\"Accuracy:\", float(format(accuracy_score(y_test, y_pred), '.4f')))\n",
    "print(\"Precision:\", float(format(precision_score(y_test, y_pred), '.4f')))\n",
    "print(\"Recall:\", float(format(recall_score(y_test, y_pred), '.4f')))\n",
    "print(\"F1:\", float(format(f1_score(y_test, y_pred), '.4f')))\n",
    "\n",
    "print('')\n",
    "print(classification_report(y_test, y_pred))"
   ]
  },
  {
   "cell_type": "code",
   "execution_count": 28,
   "id": "bc55954d",
   "metadata": {},
   "outputs": [
    {
     "name": "stdout",
     "output_type": "stream",
     "text": [
      "Accuracy: 0.7478\n",
      "Precision: 0.534\n",
      "Recall: 0.4709\n",
      "F1: 0.5005\n",
      "\n",
      "              precision    recall  f1-score   support\n",
      "\n",
      "           0       0.81      0.85      0.83      1546\n",
      "           1       0.53      0.47      0.50       567\n",
      "\n",
      "    accuracy                           0.75      2113\n",
      "   macro avg       0.67      0.66      0.67      2113\n",
      "weighted avg       0.74      0.75      0.74      2113\n",
      "\n"
     ]
    }
   ],
   "source": [
    "svc = SVC(kernel='sigmoid')\n",
    "svc.fit(X_train_pca, y_train)\n",
    "\n",
    "\n",
    "y_pred = svc.predict(X_test_pca)\n",
    "Svc = SVC(kernel=\"sigmoid\")\n",
    "svsfit = Svc.fit(X_train,y_train)\n",
    "y_pred = Svc.predict(X_test)\n",
    "\n",
    "models.append(\"SVC-sigmoid\")\n",
    "acc_lst.append(accuracy_score(y_test, y_pred))\n",
    "prec_lst.append(precision_score(y_test, y_pred))\n",
    "recall_lst.append(recall_score(y_test, y_pred))\n",
    "f1_lst.append(f1_score(y_test, y_pred))\n",
    "\n",
    "print(\"Accuracy:\", float(format(accuracy_score(y_test, y_pred), '.4f')))\n",
    "print(\"Precision:\", float(format(precision_score(y_test, y_pred), '.4f')))\n",
    "print(\"Recall:\", float(format(recall_score(y_test, y_pred), '.4f')))\n",
    "print(\"F1:\", float(format(f1_score(y_test, y_pred), '.4f')))\n",
    "\n",
    "print('')\n",
    "print(classification_report(y_test, y_pred))"
   ]
  },
  {
   "cell_type": "code",
   "execution_count": 29,
   "id": "5901ba02",
   "metadata": {},
   "outputs": [
    {
     "name": "stdout",
     "output_type": "stream",
     "text": [
      "Accuracy: 0.7459\n",
      "Precision: 0.5301\n",
      "Recall: 0.4656\n",
      "F1: 0.4958\n",
      "\n",
      "              precision    recall  f1-score   support\n",
      "\n",
      "           0       0.81      0.85      0.83      1546\n",
      "           1       0.53      0.47      0.50       567\n",
      "\n",
      "    accuracy                           0.75      2113\n",
      "   macro avg       0.67      0.66      0.66      2113\n",
      "weighted avg       0.74      0.75      0.74      2113\n",
      "\n"
     ]
    }
   ],
   "source": [
    "knn = neighbors.KNeighborsClassifier(n_neighbors=5)\n",
    "knn.fit(X_train_pca, y_train)\n",
    "\n",
    "y_pred = knn.predict(X_test_pca)\n",
    "\n",
    "models.append(\"SVC-sigmoid\")\n",
    "acc_lst.append(accuracy_score(y_test, y_pred))\n",
    "prec_lst.append(precision_score(y_test, y_pred))\n",
    "recall_lst.append(recall_score(y_test, y_pred))\n",
    "f1_lst.append(f1_score(y_test, y_pred))\n",
    "\n",
    "print(\"Accuracy:\", float(format(accuracy_score(y_test, y_pred), '.4f')))\n",
    "print(\"Precision:\", float(format(precision_score(y_test, y_pred), '.4f')))\n",
    "print(\"Recall:\", float(format(recall_score(y_test, y_pred), '.4f')))\n",
    "print(\"F1:\", float(format(f1_score(y_test, y_pred), '.4f')))\n",
    "\n",
    "print('')\n",
    "print(classification_report(y_test, y_pred))"
   ]
  },
  {
   "cell_type": "code",
   "execution_count": 33,
   "id": "7bd893a6",
   "metadata": {},
   "outputs": [
    {
     "name": "stdout",
     "output_type": "stream",
     "text": [
      "Accuracy: 0.8055\n",
      "Precision: 0.6773\n",
      "Recall: 0.5256\n",
      "F1: 0.5919\n",
      "\n",
      "              precision    recall  f1-score   support\n",
      "\n",
      "           0       0.84      0.91      0.87      1546\n",
      "           1       0.68      0.53      0.59       567\n",
      "\n",
      "    accuracy                           0.81      2113\n",
      "   macro avg       0.76      0.72      0.73      2113\n",
      "weighted avg       0.80      0.81      0.80      2113\n",
      "\n"
     ]
    }
   ],
   "source": [
    "LR = LogisticRegression()\n",
    "LR.fit(X_train_pca, y_train)\n",
    "\n",
    "y_pred = LR.predict(X_test_pca)\n",
    "\n",
    "models.append(\"LogisticRegression\")\n",
    "acc_lst.append(accuracy_score(y_test, y_pred))\n",
    "prec_lst.append(precision_score(y_test, y_pred))\n",
    "recall_lst.append(recall_score(y_test, y_pred))\n",
    "f1_lst.append(f1_score(y_test, y_pred))\n",
    "\n",
    "print(\"Accuracy:\", float(format(accuracy_score(y_test, y_pred), '.4f')))\n",
    "print(\"Precision:\", float(format(precision_score(y_test, y_pred), '.4f')))\n",
    "print(\"Recall:\", float(format(recall_score(y_test, y_pred), '.4f')))\n",
    "print(\"F1:\", float(format(f1_score(y_test, y_pred), '.4f')))\n",
    "\n",
    "print('')\n",
    "print(classification_report(y_test, y_pred))\n"
   ]
  },
  {
   "cell_type": "code",
   "execution_count": 34,
   "id": "04deb71b",
   "metadata": {},
   "outputs": [
    {
     "name": "stdout",
     "output_type": "stream",
     "text": [
      "Accuracy: 0.7544\n",
      "Precision: 0.5296\n",
      "Recall: 0.7566\n",
      "F1: 0.6231\n",
      "\n",
      "              precision    recall  f1-score   support\n",
      "\n",
      "           0       0.89      0.75      0.82      1546\n",
      "           1       0.53      0.76      0.62       567\n",
      "\n",
      "    accuracy                           0.75      2113\n",
      "   macro avg       0.71      0.76      0.72      2113\n",
      "weighted avg       0.80      0.75      0.77      2113\n",
      "\n"
     ]
    }
   ],
   "source": [
    "nb = GaussianNB()\n",
    "nb.fit(X_train, y_train)\n",
    "y_pred = nb.predict(X_test)\n",
    "\n",
    "models.append(\"Naive Bayes\")\n",
    "acc_lst.append(accuracy_score(y_test, y_pred))\n",
    "prec_lst.append(precision_score(y_test, y_pred))\n",
    "recall_lst.append(recall_score(y_test, y_pred))\n",
    "f1_lst.append(f1_score(y_test, y_pred))\n",
    "\n",
    "print(\"Accuracy:\", float(format(accuracy_score(y_test, y_pred), '.4f')))\n",
    "print(\"Precision:\", float(format(precision_score(y_test, y_pred), '.4f')))\n",
    "print(\"Recall:\", float(format(recall_score(y_test, y_pred), '.4f')))\n",
    "print(\"F1:\", float(format(f1_score(y_test, y_pred), '.4f')))\n",
    "\n",
    "print('')\n",
    "print(classification_report(y_test, y_pred))\n"
   ]
  },
  {
   "cell_type": "code",
   "execution_count": 35,
   "id": "707bd216",
   "metadata": {},
   "outputs": [
    {
     "data": {
      "text/html": [
       "<div>\n",
       "<style scoped>\n",
       "    .dataframe tbody tr th:only-of-type {\n",
       "        vertical-align: middle;\n",
       "    }\n",
       "\n",
       "    .dataframe tbody tr th {\n",
       "        vertical-align: top;\n",
       "    }\n",
       "\n",
       "    .dataframe thead th {\n",
       "        text-align: right;\n",
       "    }\n",
       "</style>\n",
       "<table border=\"1\" class=\"dataframe\">\n",
       "  <thead>\n",
       "    <tr style=\"text-align: right;\">\n",
       "      <th></th>\n",
       "      <th>models</th>\n",
       "      <th>accuracy</th>\n",
       "      <th>precision</th>\n",
       "      <th>recall</th>\n",
       "      <th>f1</th>\n",
       "    </tr>\n",
       "  </thead>\n",
       "  <tbody>\n",
       "    <tr>\n",
       "      <th>0</th>\n",
       "      <td>Random Forest</td>\n",
       "      <td>0.785613</td>\n",
       "      <td>0.640394</td>\n",
       "      <td>0.458554</td>\n",
       "      <td>0.534430</td>\n",
       "    </tr>\n",
       "    <tr>\n",
       "      <th>1</th>\n",
       "      <td>XGBoost</td>\n",
       "      <td>0.779934</td>\n",
       "      <td>0.609914</td>\n",
       "      <td>0.499118</td>\n",
       "      <td>0.548982</td>\n",
       "    </tr>\n",
       "    <tr>\n",
       "      <th>2</th>\n",
       "      <td>SVC-linear</td>\n",
       "      <td>0.796971</td>\n",
       "      <td>0.656109</td>\n",
       "      <td>0.511464</td>\n",
       "      <td>0.574827</td>\n",
       "    </tr>\n",
       "    <tr>\n",
       "      <th>3</th>\n",
       "      <td>SVC-rbf</td>\n",
       "      <td>0.804070</td>\n",
       "      <td>0.687042</td>\n",
       "      <td>0.495591</td>\n",
       "      <td>0.575820</td>\n",
       "    </tr>\n",
       "    <tr>\n",
       "      <th>4</th>\n",
       "      <td>SVC-poly</td>\n",
       "      <td>0.795078</td>\n",
       "      <td>0.672680</td>\n",
       "      <td>0.460317</td>\n",
       "      <td>0.546597</td>\n",
       "    </tr>\n",
       "    <tr>\n",
       "      <th>5</th>\n",
       "      <td>SVC-sigmoid</td>\n",
       "      <td>0.747752</td>\n",
       "      <td>0.534000</td>\n",
       "      <td>0.470899</td>\n",
       "      <td>0.500469</td>\n",
       "    </tr>\n",
       "    <tr>\n",
       "      <th>6</th>\n",
       "      <td>SVC-sigmoid</td>\n",
       "      <td>0.745859</td>\n",
       "      <td>0.530120</td>\n",
       "      <td>0.465608</td>\n",
       "      <td>0.495775</td>\n",
       "    </tr>\n",
       "    <tr>\n",
       "      <th>7</th>\n",
       "      <td>LogisticRegression</td>\n",
       "      <td>0.805490</td>\n",
       "      <td>0.677273</td>\n",
       "      <td>0.525573</td>\n",
       "      <td>0.591857</td>\n",
       "    </tr>\n",
       "    <tr>\n",
       "      <th>8</th>\n",
       "      <td>LogisticRegression</td>\n",
       "      <td>0.805490</td>\n",
       "      <td>0.677273</td>\n",
       "      <td>0.525573</td>\n",
       "      <td>0.591857</td>\n",
       "    </tr>\n",
       "    <tr>\n",
       "      <th>9</th>\n",
       "      <td>LogisticRegression</td>\n",
       "      <td>0.805490</td>\n",
       "      <td>0.677273</td>\n",
       "      <td>0.525573</td>\n",
       "      <td>0.591857</td>\n",
       "    </tr>\n",
       "    <tr>\n",
       "      <th>10</th>\n",
       "      <td>Naive Bayes</td>\n",
       "      <td>0.754378</td>\n",
       "      <td>0.529630</td>\n",
       "      <td>0.756614</td>\n",
       "      <td>0.623094</td>\n",
       "    </tr>\n",
       "  </tbody>\n",
       "</table>\n",
       "</div>"
      ],
      "text/plain": [
       "                models  accuracy  precision    recall        f1\n",
       "0        Random Forest  0.785613   0.640394  0.458554  0.534430\n",
       "1              XGBoost  0.779934   0.609914  0.499118  0.548982\n",
       "2           SVC-linear  0.796971   0.656109  0.511464  0.574827\n",
       "3              SVC-rbf  0.804070   0.687042  0.495591  0.575820\n",
       "4             SVC-poly  0.795078   0.672680  0.460317  0.546597\n",
       "5          SVC-sigmoid  0.747752   0.534000  0.470899  0.500469\n",
       "6          SVC-sigmoid  0.745859   0.530120  0.465608  0.495775\n",
       "7   LogisticRegression  0.805490   0.677273  0.525573  0.591857\n",
       "8   LogisticRegression  0.805490   0.677273  0.525573  0.591857\n",
       "9   LogisticRegression  0.805490   0.677273  0.525573  0.591857\n",
       "10         Naive Bayes  0.754378   0.529630  0.756614  0.623094"
      ]
     },
     "execution_count": 35,
     "metadata": {},
     "output_type": "execute_result"
    }
   ],
   "source": [
    "all = pd.DataFrame({'models': models,\n",
    "        'accuracy': acc_lst,\n",
    "        'precision': prec_lst,\n",
    "        'recall': recall_lst,\n",
    "        'f1': f1_lst\n",
    "        },index=None)\n",
    "\n",
    "df_result_sum = pd.DataFrame(all)\n",
    "df_result_sum"
   ]
  },
  {
   "cell_type": "markdown",
   "id": "5f41875f",
   "metadata": {},
   "source": [
    "**Observations:**\n",
    "1. We can observe that score is quite bad espically recall scores.\n",
    "2. This tells us that **model are missing a lot of actual churned users**.\n",
    "3. This is **most likely due to the imbalanced dataset of having only 26% of churned user data**."
   ]
  },
  {
   "cell_type": "code",
   "execution_count": 36,
   "id": "4b2f6deb",
   "metadata": {},
   "outputs": [],
   "source": [
    "from imblearn.over_sampling import RandomOverSampler\n",
    "ros = RandomOverSampler(sampling_strategy=\"not majority\") \n",
    "x_res, y_res = ros.fit_resample(X,y)\n"
   ]
  },
  {
   "cell_type": "code",
   "execution_count": 37,
   "id": "6d8a5c1a",
   "metadata": {},
   "outputs": [
    {
     "name": "stdout",
     "output_type": "stream",
     "text": [
      "Churns: 5174 (50.0%)\n",
      "No Churns: 5174 (50.0%)\n"
     ]
    }
   ],
   "source": [
    "churns = len(y_res[y_res == 1])\n",
    "no_churns = len(y_res[y_res == 0])\n",
    "churns_perc = round(len(y_res[y_res == 1])/len(y_res)*100,1)\n",
    "no_churns_perc = round(len(y_res[y_res == 0])/len(y_res)*100,1)\n",
    "\n",
    "print('Churns: {} ({}%)'.format(churns, churns_perc))\n",
    "print('No Churns: {} ({}%)'.format(no_churns, no_churns_perc))"
   ]
  },
  {
   "cell_type": "code",
   "execution_count": 38,
   "id": "89dd671c",
   "metadata": {},
   "outputs": [],
   "source": [
    "X_train, X_test, y_train, y_test = train_test_split(x_res, y_res, random_state=101)\n",
    "models1 = []\n",
    "acc_lst1 = []\n",
    "prec_lst1 = []\n",
    "recall_lst1 = []\n",
    "f1_lst1 = []\n",
    "\n"
   ]
  },
  {
   "cell_type": "code",
   "execution_count": 39,
   "id": "ac036613",
   "metadata": {},
   "outputs": [
    {
     "name": "stdout",
     "output_type": "stream",
     "text": [
      "Accuracy: 0.8933\n",
      "Precision: 0.8528\n",
      "Recall: 0.9486\n",
      "F1: 0.8982\n",
      "\n",
      "              precision    recall  f1-score   support\n",
      "\n",
      "           0       0.94      0.84      0.89      1304\n",
      "           1       0.85      0.95      0.90      1283\n",
      "\n",
      "    accuracy                           0.89      2587\n",
      "   macro avg       0.90      0.89      0.89      2587\n",
      "weighted avg       0.90      0.89      0.89      2587\n",
      "\n"
     ]
    }
   ],
   "source": [
    "clf=RandomForestClassifier(n_estimators=100)\n",
    "clf_fit = clf.fit(X_train,y_train)\n",
    "y_pred=clf.predict(X_test)\n",
    "\n",
    "models1.append(\"Random Forest(OS)\")\n",
    "acc_lst1.append(accuracy_score(y_test, y_pred))\n",
    "prec_lst1.append(precision_score(y_test, y_pred))\n",
    "recall_lst1.append(recall_score(y_test, y_pred))\n",
    "f1_lst1.append(f1_score(y_test, y_pred))\n",
    "\n",
    "\n",
    "print(\"Accuracy:\", float(format(accuracy_score(y_test, y_pred), '.4f')))\n",
    "print(\"Precision:\", float(format(precision_score(y_test, y_pred), '.4f')))\n",
    "print(\"Recall:\", float(format(recall_score(y_test, y_pred), '.4f')))\n",
    "print(\"F1:\", float(format(f1_score(y_test, y_pred), '.4f')))\n",
    "print('')\n",
    "print(classification_report(y_test, y_pred))"
   ]
  },
  {
   "cell_type": "code",
   "execution_count": 40,
   "id": "0273eba0",
   "metadata": {},
   "outputs": [
    {
     "name": "stdout",
     "output_type": "stream",
     "text": [
      "Accuracy: 0.8543\n",
      "Precision: 0.812\n",
      "Recall: 0.9189\n",
      "F1: 0.8622\n",
      "\n",
      "              precision    recall  f1-score   support\n",
      "\n",
      "           0       0.91      0.79      0.85      1304\n",
      "           1       0.81      0.92      0.86      1283\n",
      "\n",
      "    accuracy                           0.85      2587\n",
      "   macro avg       0.86      0.85      0.85      2587\n",
      "weighted avg       0.86      0.85      0.85      2587\n",
      "\n"
     ]
    }
   ],
   "source": [
    "xgb = XGBClassifier()\n",
    "xgb_fit = xgb.fit(X_train, y_train)\n",
    "y_pred = xgb.predict(X_test)\n",
    "\n",
    "\n",
    "models1.append(\"XGBoost(OS)\")\n",
    "acc_lst1.append(accuracy_score(y_test, y_pred))\n",
    "prec_lst1.append(precision_score(y_test, y_pred))\n",
    "recall_lst1.append(recall_score(y_test, y_pred))\n",
    "f1_lst1.append(f1_score(y_test, y_pred))\n",
    "\n",
    "print(\"Accuracy:\", float(format(accuracy_score(y_test, y_pred), '.4f')))\n",
    "print(\"Precision:\", float(format(precision_score(y_test, y_pred), '.4f')))\n",
    "print(\"Recall:\", float(format(recall_score(y_test, y_pred), '.4f')))\n",
    "print(\"F1:\", float(format(f1_score(y_test, y_pred), '.4f')))\n",
    "\n",
    "print('')\n",
    "print(classification_report(y_test, y_pred))"
   ]
  },
  {
   "cell_type": "code",
   "execution_count": 41,
   "id": "c1d603d9",
   "metadata": {},
   "outputs": [
    {
     "name": "stdout",
     "output_type": "stream",
     "text": [
      "Accuracy: 0.7569\n",
      "Precision: 0.7303\n",
      "Recall: 0.8083\n",
      "F1: 0.7673\n",
      "\n",
      "              precision    recall  f1-score   support\n",
      "\n",
      "           0       0.79      0.71      0.75      1304\n",
      "           1       0.73      0.81      0.77      1283\n",
      "\n",
      "    accuracy                           0.76      2587\n",
      "   macro avg       0.76      0.76      0.76      2587\n",
      "weighted avg       0.76      0.76      0.76      2587\n",
      "\n"
     ]
    }
   ],
   "source": [
    "nb = GaussianNB()\n",
    "nb.fit(X_train, y_train)\n",
    "y_pred = nb.predict(X_test)\n",
    "\n",
    "models1.append(\"Naive Bayes\")\n",
    "acc_lst1.append(accuracy_score(y_test, y_pred))\n",
    "prec_lst1.append(precision_score(y_test, y_pred))\n",
    "recall_lst1.append(recall_score(y_test, y_pred))\n",
    "f1_lst1.append(f1_score(y_test, y_pred))\n",
    "\n",
    "print(\"Accuracy:\", float(format(accuracy_score(y_test, y_pred), '.4f')))\n",
    "print(\"Precision:\", float(format(precision_score(y_test, y_pred), '.4f')))\n",
    "print(\"Recall:\", float(format(recall_score(y_test, y_pred), '.4f')))\n",
    "print(\"F1:\", float(format(f1_score(y_test, y_pred), '.4f')))\n",
    "\n",
    "print('')\n",
    "print(classification_report(y_test, y_pred))"
   ]
  },
  {
   "cell_type": "code",
   "execution_count": 42,
   "id": "de7d221c",
   "metadata": {},
   "outputs": [
    {
     "data": {
      "text/html": [
       "<div>\n",
       "<style scoped>\n",
       "    .dataframe tbody tr th:only-of-type {\n",
       "        vertical-align: middle;\n",
       "    }\n",
       "\n",
       "    .dataframe tbody tr th {\n",
       "        vertical-align: top;\n",
       "    }\n",
       "\n",
       "    .dataframe thead th {\n",
       "        text-align: right;\n",
       "    }\n",
       "</style>\n",
       "<table border=\"1\" class=\"dataframe\">\n",
       "  <thead>\n",
       "    <tr style=\"text-align: right;\">\n",
       "      <th></th>\n",
       "      <th>models</th>\n",
       "      <th>accuracy</th>\n",
       "      <th>precision</th>\n",
       "      <th>recall</th>\n",
       "      <th>f1</th>\n",
       "    </tr>\n",
       "  </thead>\n",
       "  <tbody>\n",
       "    <tr>\n",
       "      <th>0</th>\n",
       "      <td>Random Forest(OS)</td>\n",
       "      <td>0.893313</td>\n",
       "      <td>0.852838</td>\n",
       "      <td>0.948558</td>\n",
       "      <td>0.898155</td>\n",
       "    </tr>\n",
       "    <tr>\n",
       "      <th>1</th>\n",
       "      <td>XGBoost(OS)</td>\n",
       "      <td>0.854271</td>\n",
       "      <td>0.811983</td>\n",
       "      <td>0.918940</td>\n",
       "      <td>0.862157</td>\n",
       "    </tr>\n",
       "    <tr>\n",
       "      <th>2</th>\n",
       "      <td>Naive Bayes</td>\n",
       "      <td>0.756861</td>\n",
       "      <td>0.730282</td>\n",
       "      <td>0.808262</td>\n",
       "      <td>0.767296</td>\n",
       "    </tr>\n",
       "  </tbody>\n",
       "</table>\n",
       "</div>"
      ],
      "text/plain": [
       "              models  accuracy  precision    recall        f1\n",
       "0  Random Forest(OS)  0.893313   0.852838  0.948558  0.898155\n",
       "1        XGBoost(OS)  0.854271   0.811983  0.918940  0.862157\n",
       "2        Naive Bayes  0.756861   0.730282  0.808262  0.767296"
      ]
     },
     "execution_count": 42,
     "metadata": {},
     "output_type": "execute_result"
    }
   ],
   "source": [
    "all1 = pd.DataFrame({'models': models1,\n",
    "        'accuracy': acc_lst1,\n",
    "        'precision': prec_lst1,\n",
    "        'recall': recall_lst1,\n",
    "        'f1': f1_lst1\n",
    "        },index=None)\n",
    "\n",
    "df_result_sum = pd.DataFrame(all1)\n",
    "df_result_sum"
   ]
  }
 ],
 "metadata": {
  "kernelspec": {
   "display_name": "Python 3 (ipykernel)",
   "language": "python",
   "name": "python3"
  },
  "language_info": {
   "codemirror_mode": {
    "name": "ipython",
    "version": 3
   },
   "file_extension": ".py",
   "mimetype": "text/x-python",
   "name": "python",
   "nbconvert_exporter": "python",
   "pygments_lexer": "ipython3",
   "version": "3.9.7"
  }
 },
 "nbformat": 4,
 "nbformat_minor": 5
}
